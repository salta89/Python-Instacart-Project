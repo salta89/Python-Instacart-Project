{
 "cells": [
  {
   "cell_type": "markdown",
   "id": "1aaa045d",
   "metadata": {},
   "source": [
    "# Importing libraries"
   ]
  },
  {
   "cell_type": "code",
   "execution_count": 1,
   "id": "5360585b",
   "metadata": {},
   "outputs": [],
   "source": [
    "import pandas as pd\n",
    "import numpy as np\n",
    "import os"
   ]
  },
  {
   "cell_type": "markdown",
   "id": "983fec76",
   "metadata": {},
   "source": [
    "# Data Types"
   ]
  },
  {
   "cell_type": "code",
   "execution_count": 5,
   "id": "a3958fcb",
   "metadata": {},
   "outputs": [],
   "source": [
    "x = 50 "
   ]
  },
  {
   "cell_type": "code",
   "execution_count": 20,
   "id": "7c3ec916",
   "metadata": {},
   "outputs": [
    {
     "data": {
      "text/plain": [
       "100"
      ]
     },
     "execution_count": 20,
     "metadata": {},
     "output_type": "execute_result"
    }
   ],
   "source": [
    "x + x"
   ]
  },
  {
   "cell_type": "code",
   "execution_count": 14,
   "id": "c3bcf827",
   "metadata": {},
   "outputs": [
    {
     "data": {
      "text/plain": [
       "100"
      ]
     },
     "execution_count": 14,
     "metadata": {},
     "output_type": "execute_result"
    }
   ],
   "source": [
    "150 - x"
   ]
  },
  {
   "cell_type": "code",
   "execution_count": 19,
   "id": "00ba458c",
   "metadata": {},
   "outputs": [
    {
     "data": {
      "text/plain": [
       "100.0"
      ]
     },
     "execution_count": 19,
     "metadata": {},
     "output_type": "execute_result"
    }
   ],
   "source": [
    "x * 100 / x"
   ]
  },
  {
   "cell_type": "code",
   "execution_count": 24,
   "id": "c32c2bcf",
   "metadata": {},
   "outputs": [],
   "source": [
    "x = 3.78\n",
    "y = 2.23"
   ]
  },
  {
   "cell_type": "code",
   "execution_count": 25,
   "id": "d4b4808d",
   "metadata": {},
   "outputs": [
    {
     "data": {
      "text/plain": [
       "1.695067264573991"
      ]
     },
     "execution_count": 25,
     "metadata": {},
     "output_type": "execute_result"
    }
   ],
   "source": [
    "x/y"
   ]
  },
  {
   "cell_type": "code",
   "execution_count": 37,
   "id": "1a46a60d",
   "metadata": {},
   "outputs": [],
   "source": [
    "a = 'Da'\n",
    "b = 'ta'"
   ]
  },
  {
   "cell_type": "code",
   "execution_count": 38,
   "id": "520adbc7",
   "metadata": {},
   "outputs": [
    {
     "data": {
      "text/plain": [
       "'Data'"
      ]
     },
     "execution_count": 38,
     "metadata": {},
     "output_type": "execute_result"
    }
   ],
   "source": [
    "a+b"
   ]
  },
  {
   "cell_type": "code",
   "execution_count": 35,
   "id": "5298d9ea",
   "metadata": {},
   "outputs": [],
   "source": [
    "sentence1 = 'Hello, how are you? '\n",
    "sentence2 =  'Thank you, I am doing well.'"
   ]
  },
  {
   "cell_type": "code",
   "execution_count": 36,
   "id": "1d265adf",
   "metadata": {},
   "outputs": [
    {
     "data": {
      "text/plain": [
       "'Hello, how are you? Thank you, I am doing well.'"
      ]
     },
     "execution_count": 36,
     "metadata": {},
     "output_type": "execute_result"
    }
   ],
   "source": [
    "sentence1 + sentence2"
   ]
  },
  {
   "cell_type": "code",
   "execution_count": 39,
   "id": "bbe2f878",
   "metadata": {},
   "outputs": [
    {
     "data": {
      "text/plain": [
       "'/Users/nurgul/Instacart Basket Analysis/03 Scripts/4.2 IC Importing libraries and Python Data types'"
      ]
     },
     "execution_count": 39,
     "metadata": {},
     "output_type": "execute_result"
    }
   ],
   "source": [
    "import os\n",
    "os.getcwd()\n"
   ]
  },
  {
   "cell_type": "code",
   "execution_count": null,
   "id": "5f4c1ccb",
   "metadata": {},
   "outputs": [],
   "source": []
  }
 ],
 "metadata": {
  "kernelspec": {
   "display_name": "Python 3 (ipykernel)",
   "language": "python",
   "name": "python3"
  },
  "language_info": {
   "codemirror_mode": {
    "name": "ipython",
    "version": 3
   },
   "file_extension": ".py",
   "mimetype": "text/x-python",
   "name": "python",
   "nbconvert_exporter": "python",
   "pygments_lexer": "ipython3",
   "version": "3.11.5"
  }
 },
 "nbformat": 4,
 "nbformat_minor": 5
}
