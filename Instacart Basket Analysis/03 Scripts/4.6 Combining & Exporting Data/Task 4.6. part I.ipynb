{
 "cells": [
  {
   "cell_type": "markdown",
   "id": "f61a29cd",
   "metadata": {},
   "source": [
    "# 4.6 Merging and exporting data"
   ]
  },
  {
   "cell_type": "markdown",
   "id": "5a6c63ad",
   "metadata": {},
   "source": [
    "## This script includes the following points:"
   ]
  },
  {
   "cell_type": "markdown",
   "id": "88ecb887",
   "metadata": {},
   "source": [
    "### 1.Import the Data"
   ]
  },
  {
   "cell_type": "markdown",
   "id": "9ba5cef5",
   "metadata": {},
   "source": [
    "### 2. Check Output of Data"
   ]
  },
  {
   "cell_type": "markdown",
   "id": "9da67a0c",
   "metadata": {},
   "source": [
    "### 3. Merge dataframes df_ords and df_ords_prior"
   ]
  },
  {
   "cell_type": "code",
   "execution_count": 57,
   "id": "fdedd10b",
   "metadata": {},
   "outputs": [],
   "source": [
    "# Import libraries \n",
    "import pandas as pd \n",
    "import numpy as np \n",
    "import os"
   ]
  },
  {
   "cell_type": "markdown",
   "id": "ba631d83",
   "metadata": {},
   "source": [
    "### 1. Import Data"
   ]
  },
  {
   "cell_type": "code",
   "execution_count": 58,
   "id": "6b69d5b9",
   "metadata": {},
   "outputs": [],
   "source": [
    "path = r'/Users/nurgul/Instacart Basket Analysis'"
   ]
  },
  {
   "cell_type": "code",
   "execution_count": 59,
   "id": "968b09f6",
   "metadata": {},
   "outputs": [],
   "source": [
    "# Imported Data set orders_products_prior.csv\n",
    "df_ords_prior = pd.read_csv(os.path.join(path, '02 Data', 'Original Data', 'orders_products_prior.csv'), index_col=False)"
   ]
  },
  {
   "cell_type": "code",
   "execution_count": 60,
   "id": "6a2f8b75",
   "metadata": {},
   "outputs": [],
   "source": [
    "# Imported Data set orders_checked.csv\n",
    "df_ords=pd.read_csv(os.path.join(path, '02 Data', 'Prepared Data', 'orders_checked.csv'), index_col=False)"
   ]
  },
  {
   "cell_type": "markdown",
   "id": "ec28792f",
   "metadata": {},
   "source": [
    "### 2. Check Output of Data¶"
   ]
  },
  {
   "cell_type": "code",
   "execution_count": 61,
   "id": "ac701d08",
   "metadata": {},
   "outputs": [
    {
     "data": {
      "text/html": [
       "<div>\n",
       "<style scoped>\n",
       "    .dataframe tbody tr th:only-of-type {\n",
       "        vertical-align: middle;\n",
       "    }\n",
       "\n",
       "    .dataframe tbody tr th {\n",
       "        vertical-align: top;\n",
       "    }\n",
       "\n",
       "    .dataframe thead th {\n",
       "        text-align: right;\n",
       "    }\n",
       "</style>\n",
       "<table border=\"1\" class=\"dataframe\">\n",
       "  <thead>\n",
       "    <tr style=\"text-align: right;\">\n",
       "      <th></th>\n",
       "      <th>order_id</th>\n",
       "      <th>product_id</th>\n",
       "      <th>add_to_cart_order</th>\n",
       "      <th>reordered</th>\n",
       "    </tr>\n",
       "  </thead>\n",
       "  <tbody>\n",
       "    <tr>\n",
       "      <th>0</th>\n",
       "      <td>2</td>\n",
       "      <td>33120</td>\n",
       "      <td>1</td>\n",
       "      <td>1</td>\n",
       "    </tr>\n",
       "    <tr>\n",
       "      <th>1</th>\n",
       "      <td>2</td>\n",
       "      <td>28985</td>\n",
       "      <td>2</td>\n",
       "      <td>1</td>\n",
       "    </tr>\n",
       "    <tr>\n",
       "      <th>2</th>\n",
       "      <td>2</td>\n",
       "      <td>9327</td>\n",
       "      <td>3</td>\n",
       "      <td>0</td>\n",
       "    </tr>\n",
       "    <tr>\n",
       "      <th>3</th>\n",
       "      <td>2</td>\n",
       "      <td>45918</td>\n",
       "      <td>4</td>\n",
       "      <td>1</td>\n",
       "    </tr>\n",
       "    <tr>\n",
       "      <th>4</th>\n",
       "      <td>2</td>\n",
       "      <td>30035</td>\n",
       "      <td>5</td>\n",
       "      <td>0</td>\n",
       "    </tr>\n",
       "  </tbody>\n",
       "</table>\n",
       "</div>"
      ],
      "text/plain": [
       "   order_id  product_id  add_to_cart_order  reordered\n",
       "0         2       33120                  1          1\n",
       "1         2       28985                  2          1\n",
       "2         2        9327                  3          0\n",
       "3         2       45918                  4          1\n",
       "4         2       30035                  5          0"
      ]
     },
     "execution_count": 61,
     "metadata": {},
     "output_type": "execute_result"
    }
   ],
   "source": [
    "# Check the output \n",
    "df_ords_prior.head()"
   ]
  },
  {
   "cell_type": "code",
   "execution_count": 62,
   "id": "12a6b77a",
   "metadata": {},
   "outputs": [],
   "source": [
    "df_ords = df_ords.drop(columns = ['eval_set'])"
   ]
  },
  {
   "cell_type": "code",
   "execution_count": 63,
   "id": "5e549827",
   "metadata": {},
   "outputs": [],
   "source": [
    "df_ords= df_ords.drop(columns=['Unnamed: 0', 'Unnamed: 0.1'])"
   ]
  },
  {
   "cell_type": "code",
   "execution_count": 64,
   "id": "7ca058db",
   "metadata": {},
   "outputs": [
    {
     "data": {
      "text/html": [
       "<div>\n",
       "<style scoped>\n",
       "    .dataframe tbody tr th:only-of-type {\n",
       "        vertical-align: middle;\n",
       "    }\n",
       "\n",
       "    .dataframe tbody tr th {\n",
       "        vertical-align: top;\n",
       "    }\n",
       "\n",
       "    .dataframe thead th {\n",
       "        text-align: right;\n",
       "    }\n",
       "</style>\n",
       "<table border=\"1\" class=\"dataframe\">\n",
       "  <thead>\n",
       "    <tr style=\"text-align: right;\">\n",
       "      <th></th>\n",
       "      <th>order_id</th>\n",
       "      <th>user_id</th>\n",
       "      <th>order_number</th>\n",
       "      <th>orders_day_of_week</th>\n",
       "      <th>hour_of_day_ordered</th>\n",
       "      <th>days_since_prior_order</th>\n",
       "    </tr>\n",
       "  </thead>\n",
       "  <tbody>\n",
       "    <tr>\n",
       "      <th>0</th>\n",
       "      <td>2539329</td>\n",
       "      <td>1</td>\n",
       "      <td>1</td>\n",
       "      <td>2</td>\n",
       "      <td>8</td>\n",
       "      <td>NaN</td>\n",
       "    </tr>\n",
       "    <tr>\n",
       "      <th>1</th>\n",
       "      <td>2398795</td>\n",
       "      <td>1</td>\n",
       "      <td>2</td>\n",
       "      <td>3</td>\n",
       "      <td>7</td>\n",
       "      <td>15.0</td>\n",
       "    </tr>\n",
       "    <tr>\n",
       "      <th>2</th>\n",
       "      <td>473747</td>\n",
       "      <td>1</td>\n",
       "      <td>3</td>\n",
       "      <td>3</td>\n",
       "      <td>12</td>\n",
       "      <td>21.0</td>\n",
       "    </tr>\n",
       "    <tr>\n",
       "      <th>3</th>\n",
       "      <td>2254736</td>\n",
       "      <td>1</td>\n",
       "      <td>4</td>\n",
       "      <td>4</td>\n",
       "      <td>7</td>\n",
       "      <td>29.0</td>\n",
       "    </tr>\n",
       "    <tr>\n",
       "      <th>4</th>\n",
       "      <td>431534</td>\n",
       "      <td>1</td>\n",
       "      <td>5</td>\n",
       "      <td>4</td>\n",
       "      <td>15</td>\n",
       "      <td>28.0</td>\n",
       "    </tr>\n",
       "  </tbody>\n",
       "</table>\n",
       "</div>"
      ],
      "text/plain": [
       "   order_id  user_id  order_number  orders_day_of_week  hour_of_day_ordered  \\\n",
       "0   2539329        1             1                   2                    8   \n",
       "1   2398795        1             2                   3                    7   \n",
       "2    473747        1             3                   3                   12   \n",
       "3   2254736        1             4                   4                    7   \n",
       "4    431534        1             5                   4                   15   \n",
       "\n",
       "   days_since_prior_order  \n",
       "0                     NaN  \n",
       "1                    15.0  \n",
       "2                    21.0  \n",
       "3                    29.0  \n",
       "4                    28.0  "
      ]
     },
     "execution_count": 64,
     "metadata": {},
     "output_type": "execute_result"
    }
   ],
   "source": [
    "# Check the output \n",
    "df_ords.head()"
   ]
  },
  {
   "cell_type": "code",
   "execution_count": 65,
   "id": "1fb4a99d",
   "metadata": {},
   "outputs": [
    {
     "data": {
      "text/plain": [
       "(32434489, 4)"
      ]
     },
     "execution_count": 65,
     "metadata": {},
     "output_type": "execute_result"
    }
   ],
   "source": [
    "df_ords_prior.shape"
   ]
  },
  {
   "cell_type": "code",
   "execution_count": 66,
   "id": "f61779c4",
   "metadata": {},
   "outputs": [
    {
     "data": {
      "text/plain": [
       "(3421083, 6)"
      ]
     },
     "execution_count": 66,
     "metadata": {},
     "output_type": "execute_result"
    }
   ],
   "source": [
    "df_ords.shape"
   ]
  },
  {
   "cell_type": "markdown",
   "id": "5636c21f",
   "metadata": {},
   "source": [
    "### 3. Merge dataframes df_ords and df_ords_prior "
   ]
  },
  {
   "cell_type": "code",
   "execution_count": 67,
   "id": "4dd54fa7",
   "metadata": {},
   "outputs": [],
   "source": [
    "#Merge df_ords and df_ords_prior\n",
    "df_merged_large = df_ords.merge(df_ords_prior, on = 'order_id', indicator = True)"
   ]
  },
  {
   "cell_type": "code",
   "execution_count": 68,
   "id": "d353f94c",
   "metadata": {},
   "outputs": [
    {
     "data": {
      "text/html": [
       "<div>\n",
       "<style scoped>\n",
       "    .dataframe tbody tr th:only-of-type {\n",
       "        vertical-align: middle;\n",
       "    }\n",
       "\n",
       "    .dataframe tbody tr th {\n",
       "        vertical-align: top;\n",
       "    }\n",
       "\n",
       "    .dataframe thead th {\n",
       "        text-align: right;\n",
       "    }\n",
       "</style>\n",
       "<table border=\"1\" class=\"dataframe\">\n",
       "  <thead>\n",
       "    <tr style=\"text-align: right;\">\n",
       "      <th></th>\n",
       "      <th>order_id</th>\n",
       "      <th>user_id</th>\n",
       "      <th>order_number</th>\n",
       "      <th>orders_day_of_week</th>\n",
       "      <th>hour_of_day_ordered</th>\n",
       "      <th>days_since_prior_order</th>\n",
       "      <th>product_id</th>\n",
       "      <th>add_to_cart_order</th>\n",
       "      <th>reordered</th>\n",
       "      <th>_merge</th>\n",
       "    </tr>\n",
       "  </thead>\n",
       "  <tbody>\n",
       "    <tr>\n",
       "      <th>0</th>\n",
       "      <td>2539329</td>\n",
       "      <td>1</td>\n",
       "      <td>1</td>\n",
       "      <td>2</td>\n",
       "      <td>8</td>\n",
       "      <td>NaN</td>\n",
       "      <td>196</td>\n",
       "      <td>1</td>\n",
       "      <td>0</td>\n",
       "      <td>both</td>\n",
       "    </tr>\n",
       "    <tr>\n",
       "      <th>1</th>\n",
       "      <td>2539329</td>\n",
       "      <td>1</td>\n",
       "      <td>1</td>\n",
       "      <td>2</td>\n",
       "      <td>8</td>\n",
       "      <td>NaN</td>\n",
       "      <td>14084</td>\n",
       "      <td>2</td>\n",
       "      <td>0</td>\n",
       "      <td>both</td>\n",
       "    </tr>\n",
       "    <tr>\n",
       "      <th>2</th>\n",
       "      <td>2539329</td>\n",
       "      <td>1</td>\n",
       "      <td>1</td>\n",
       "      <td>2</td>\n",
       "      <td>8</td>\n",
       "      <td>NaN</td>\n",
       "      <td>12427</td>\n",
       "      <td>3</td>\n",
       "      <td>0</td>\n",
       "      <td>both</td>\n",
       "    </tr>\n",
       "    <tr>\n",
       "      <th>3</th>\n",
       "      <td>2539329</td>\n",
       "      <td>1</td>\n",
       "      <td>1</td>\n",
       "      <td>2</td>\n",
       "      <td>8</td>\n",
       "      <td>NaN</td>\n",
       "      <td>26088</td>\n",
       "      <td>4</td>\n",
       "      <td>0</td>\n",
       "      <td>both</td>\n",
       "    </tr>\n",
       "    <tr>\n",
       "      <th>4</th>\n",
       "      <td>2539329</td>\n",
       "      <td>1</td>\n",
       "      <td>1</td>\n",
       "      <td>2</td>\n",
       "      <td>8</td>\n",
       "      <td>NaN</td>\n",
       "      <td>26405</td>\n",
       "      <td>5</td>\n",
       "      <td>0</td>\n",
       "      <td>both</td>\n",
       "    </tr>\n",
       "  </tbody>\n",
       "</table>\n",
       "</div>"
      ],
      "text/plain": [
       "   order_id  user_id  order_number  orders_day_of_week  hour_of_day_ordered  \\\n",
       "0   2539329        1             1                   2                    8   \n",
       "1   2539329        1             1                   2                    8   \n",
       "2   2539329        1             1                   2                    8   \n",
       "3   2539329        1             1                   2                    8   \n",
       "4   2539329        1             1                   2                    8   \n",
       "\n",
       "   days_since_prior_order  product_id  add_to_cart_order  reordered _merge  \n",
       "0                     NaN         196                  1          0   both  \n",
       "1                     NaN       14084                  2          0   both  \n",
       "2                     NaN       12427                  3          0   both  \n",
       "3                     NaN       26088                  4          0   both  \n",
       "4                     NaN       26405                  5          0   both  "
      ]
     },
     "execution_count": 68,
     "metadata": {},
     "output_type": "execute_result"
    }
   ],
   "source": [
    "#Check output of merged dataframe\n",
    "df_merged_large.head()"
   ]
  },
  {
   "cell_type": "code",
   "execution_count": 75,
   "id": "34a96a1a",
   "metadata": {},
   "outputs": [
    {
     "data": {
      "text/plain": [
       "(32434489, 10)"
      ]
     },
     "execution_count": 75,
     "metadata": {},
     "output_type": "execute_result"
    }
   ],
   "source": [
    "df_merged_large.shape"
   ]
  },
  {
   "cell_type": "code",
   "execution_count": 69,
   "id": "6ff695ef",
   "metadata": {},
   "outputs": [
    {
     "data": {
      "text/plain": [
       "_merge\n",
       "both          32434489\n",
       "left_only            0\n",
       "right_only           0\n",
       "Name: count, dtype: int64"
      ]
     },
     "execution_count": 69,
     "metadata": {},
     "output_type": "execute_result"
    }
   ],
   "source": [
    "df_merged_large['_merge'].value_counts()"
   ]
  },
  {
   "cell_type": "code",
   "execution_count": 74,
   "id": "5d573c2a",
   "metadata": {},
   "outputs": [],
   "source": [
    "# Export data to pkl\n",
    "df_merged_large.to_pickle(os.path.join(path, '02 Data','Prepared Data', 'orders_products_combined.pkl'))"
   ]
  },
  {
   "cell_type": "markdown",
   "id": "ac978c96",
   "metadata": {},
   "source": [
    "# 5. Export Customer File to PKL"
   ]
  },
  {
   "cell_type": "code",
   "execution_count": null,
   "id": "1ac5306c",
   "metadata": {},
   "outputs": [],
   "source": []
  }
 ],
 "metadata": {
  "kernelspec": {
   "display_name": "Python 3 (ipykernel)",
   "language": "python",
   "name": "python3"
  },
  "language_info": {
   "codemirror_mode": {
    "name": "ipython",
    "version": 3
   },
   "file_extension": ".py",
   "mimetype": "text/x-python",
   "name": "python",
   "nbconvert_exporter": "python",
   "pygments_lexer": "ipython3",
   "version": "3.11.5"
  }
 },
 "nbformat": 4,
 "nbformat_minor": 5
}
